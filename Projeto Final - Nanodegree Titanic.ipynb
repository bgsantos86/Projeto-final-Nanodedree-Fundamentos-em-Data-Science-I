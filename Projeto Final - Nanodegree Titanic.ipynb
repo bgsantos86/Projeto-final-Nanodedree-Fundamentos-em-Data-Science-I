{
 "cells": [
  {
   "cell_type": "markdown",
   "metadata": {},
   "source": [
    "##### Etapa 0: Importando pacotes e lendo dataset."
   ]
  },
  {
   "cell_type": "code",
   "execution_count": 26,
   "metadata": {},
   "outputs": [],
   "source": [
    "import pandas as pd\n",
    "from matplotlib import pyplot as plt\n",
    "import seaborn as sns\n",
    "%matplotlib inline\n",
    "\n",
    "titanic = pd.read_csv('titanic-data-6.csv')"
   ]
  },
  {
   "cell_type": "code",
   "execution_count": 27,
   "metadata": {},
   "outputs": [
    {
     "name": "stdout",
     "output_type": "stream",
     "text": [
      "Amostra dos dados do dataset - Titanic\n"
     ]
    },
    {
     "data": {
      "text/html": [
       "<div>\n",
       "<style scoped>\n",
       "    .dataframe tbody tr th:only-of-type {\n",
       "        vertical-align: middle;\n",
       "    }\n",
       "\n",
       "    .dataframe tbody tr th {\n",
       "        vertical-align: top;\n",
       "    }\n",
       "\n",
       "    .dataframe thead th {\n",
       "        text-align: right;\n",
       "    }\n",
       "</style>\n",
       "<table border=\"1\" class=\"dataframe\">\n",
       "  <thead>\n",
       "    <tr style=\"text-align: right;\">\n",
       "      <th></th>\n",
       "      <th>PassengerId</th>\n",
       "      <th>Survived</th>\n",
       "      <th>Pclass</th>\n",
       "      <th>Name</th>\n",
       "      <th>Sex</th>\n",
       "      <th>Age</th>\n",
       "      <th>SibSp</th>\n",
       "      <th>Parch</th>\n",
       "      <th>Ticket</th>\n",
       "      <th>Fare</th>\n",
       "      <th>Cabin</th>\n",
       "      <th>Embarked</th>\n",
       "    </tr>\n",
       "  </thead>\n",
       "  <tbody>\n",
       "    <tr>\n",
       "      <th>0</th>\n",
       "      <td>1</td>\n",
       "      <td>0</td>\n",
       "      <td>3</td>\n",
       "      <td>Braund, Mr. Owen Harris</td>\n",
       "      <td>male</td>\n",
       "      <td>22.0</td>\n",
       "      <td>1</td>\n",
       "      <td>0</td>\n",
       "      <td>A/5 21171</td>\n",
       "      <td>7.2500</td>\n",
       "      <td>NaN</td>\n",
       "      <td>S</td>\n",
       "    </tr>\n",
       "    <tr>\n",
       "      <th>1</th>\n",
       "      <td>2</td>\n",
       "      <td>1</td>\n",
       "      <td>1</td>\n",
       "      <td>Cumings, Mrs. John Bradley (Florence Briggs Th...</td>\n",
       "      <td>female</td>\n",
       "      <td>38.0</td>\n",
       "      <td>1</td>\n",
       "      <td>0</td>\n",
       "      <td>PC 17599</td>\n",
       "      <td>71.2833</td>\n",
       "      <td>C85</td>\n",
       "      <td>C</td>\n",
       "    </tr>\n",
       "    <tr>\n",
       "      <th>2</th>\n",
       "      <td>3</td>\n",
       "      <td>1</td>\n",
       "      <td>3</td>\n",
       "      <td>Heikkinen, Miss. Laina</td>\n",
       "      <td>female</td>\n",
       "      <td>26.0</td>\n",
       "      <td>0</td>\n",
       "      <td>0</td>\n",
       "      <td>STON/O2. 3101282</td>\n",
       "      <td>7.9250</td>\n",
       "      <td>NaN</td>\n",
       "      <td>S</td>\n",
       "    </tr>\n",
       "    <tr>\n",
       "      <th>3</th>\n",
       "      <td>4</td>\n",
       "      <td>1</td>\n",
       "      <td>1</td>\n",
       "      <td>Futrelle, Mrs. Jacques Heath (Lily May Peel)</td>\n",
       "      <td>female</td>\n",
       "      <td>35.0</td>\n",
       "      <td>1</td>\n",
       "      <td>0</td>\n",
       "      <td>113803</td>\n",
       "      <td>53.1000</td>\n",
       "      <td>C123</td>\n",
       "      <td>S</td>\n",
       "    </tr>\n",
       "    <tr>\n",
       "      <th>4</th>\n",
       "      <td>5</td>\n",
       "      <td>0</td>\n",
       "      <td>3</td>\n",
       "      <td>Allen, Mr. William Henry</td>\n",
       "      <td>male</td>\n",
       "      <td>35.0</td>\n",
       "      <td>0</td>\n",
       "      <td>0</td>\n",
       "      <td>373450</td>\n",
       "      <td>8.0500</td>\n",
       "      <td>NaN</td>\n",
       "      <td>S</td>\n",
       "    </tr>\n",
       "  </tbody>\n",
       "</table>\n",
       "</div>"
      ],
      "text/plain": [
       "   PassengerId  Survived  Pclass  \\\n",
       "0            1         0       3   \n",
       "1            2         1       1   \n",
       "2            3         1       3   \n",
       "3            4         1       1   \n",
       "4            5         0       3   \n",
       "\n",
       "                                                Name     Sex   Age  SibSp  \\\n",
       "0                            Braund, Mr. Owen Harris    male  22.0      1   \n",
       "1  Cumings, Mrs. John Bradley (Florence Briggs Th...  female  38.0      1   \n",
       "2                             Heikkinen, Miss. Laina  female  26.0      0   \n",
       "3       Futrelle, Mrs. Jacques Heath (Lily May Peel)  female  35.0      1   \n",
       "4                           Allen, Mr. William Henry    male  35.0      0   \n",
       "\n",
       "   Parch            Ticket     Fare Cabin Embarked  \n",
       "0      0         A/5 21171   7.2500   NaN        S  \n",
       "1      0          PC 17599  71.2833   C85        C  \n",
       "2      0  STON/O2. 3101282   7.9250   NaN        S  \n",
       "3      0            113803  53.1000  C123        S  \n",
       "4      0            373450   8.0500   NaN        S  "
      ]
     },
     "execution_count": 27,
     "metadata": {},
     "output_type": "execute_result"
    }
   ],
   "source": [
    "print('Amostra dos dados do dataset - Titanic')\n",
    "titanic.head()"
   ]
  },
  {
   "cell_type": "code",
   "execution_count": 28,
   "metadata": {},
   "outputs": [
    {
     "name": "stdout",
     "output_type": "stream",
     "text": [
      "Este conjunto tem: 891 linhas e 12 colunas.\n"
     ]
    }
   ],
   "source": [
    "# Número de amostras do conjunto\n",
    "print(f'Este conjunto tem: {titanic.shape[0]} linhas e {titanic.shape[1]} colunas.')"
   ]
  },
  {
   "cell_type": "markdown",
   "metadata": {},
   "source": [
    "##### Etapa 1: Fazendo perguntas\n",
    "- Quantos foram os que sobrevieram?\n",
    "- Quantos foram os que morreram na catástrofe?\n",
    "- Dentre os que sobreviveram, qual a média da idade?\n",
    "- Dentre os que não sobreviveram, qual a média de idade?\n",
    "- Qual a relação entre os sobreviventes e a classe de ingresso?\n",
    "- Qual o sexo mais relevante entre os sobreviventes?\n",
    "- Morreram mais pessoas do sexo feminino ou masculino?"
   ]
  },
  {
   "cell_type": "markdown",
   "metadata": {},
   "source": [
    "##### Etapa 2: Limpando os dados - Wrangle"
   ]
  },
  {
   "cell_type": "code",
   "execution_count": 29,
   "metadata": {},
   "outputs": [
    {
     "name": "stdout",
     "output_type": "stream",
     "text": [
      "Duplicadas - Titanic: 0\n"
     ]
    }
   ],
   "source": [
    "# Números de linhas duplicadas - Wrangle\n",
    "print(\"Duplicadas - Titanic: {0}\".format(titanic.duplicated().sum()))"
   ]
  },
  {
   "cell_type": "code",
   "execution_count": 30,
   "metadata": {},
   "outputs": [],
   "source": [
    "# Removendo colunas que não serão usadas - Wrangle\n",
    "titanic.drop(['PassengerId', 'Name', 'Ticket', 'Fare', 'Cabin'], axis=1, inplace=True)"
   ]
  },
  {
   "cell_type": "code",
   "execution_count": 31,
   "metadata": {},
   "outputs": [
    {
     "name": "stdout",
     "output_type": "stream",
     "text": [
      "coluna: Survived, tipo: <class 'numpy.int64'>\n",
      "coluna: Pclass, tipo: <class 'numpy.int64'>\n",
      "coluna: Sex, tipo: <class 'str'>\n",
      "coluna: Age, tipo: <class 'numpy.float64'>\n",
      "coluna: SibSp, tipo: <class 'numpy.int64'>\n",
      "coluna: Parch, tipo: <class 'numpy.int64'>\n",
      "coluna: Embarked, tipo: <class 'str'>\n"
     ]
    }
   ],
   "source": [
    "# Checando tipos das colunas - Wrangle\n",
    "def check_types(df):\n",
    "    for column in df.columns:\n",
    "        print(\"coluna: {0}, tipo: {1}\".format(column, type(df[column][0])))\n",
    "check_types(titanic)"
   ]
  },
  {
   "cell_type": "code",
   "execution_count": 32,
   "metadata": {},
   "outputs": [
    {
     "data": {
      "text/plain": [
       "Survived     2\n",
       "Pclass       3\n",
       "Sex          2\n",
       "Age         88\n",
       "SibSp        7\n",
       "Parch        7\n",
       "Embarked     3\n",
       "dtype: int64"
      ]
     },
     "execution_count": 32,
     "metadata": {},
     "output_type": "execute_result"
    }
   ],
   "source": [
    "# Verificando a ocorrência de elementos únicos em cada coluna - Wrangle\n",
    "titanic.nunique()"
   ]
  },
  {
   "cell_type": "code",
   "execution_count": 33,
   "metadata": {},
   "outputs": [
    {
     "name": "stdout",
     "output_type": "stream",
     "text": [
      "Valores -> Survived: [0 1]\n",
      "Valores -> Pclass: [3 1 2]\n",
      "Valores -> Sex: ['male' 'female']\n",
      "Valores -> Age: [22.   38.   26.   35.     nan 54.    2.   27.   14.    4.   58.   20.\n",
      " 39.   55.   31.   34.   15.   28.    8.   19.   40.   66.   42.   21.\n",
      " 18.    3.    7.   49.   29.   65.   28.5   5.   11.   45.   17.   32.\n",
      " 16.   25.    0.83 30.   33.   23.   24.   46.   59.   71.   37.   47.\n",
      " 14.5  70.5  32.5  12.    9.   36.5  51.   55.5  40.5  44.    1.   61.\n",
      " 56.   50.   36.   45.5  20.5  62.   41.   52.   63.   23.5   0.92 43.\n",
      " 60.   10.   64.   13.   48.    0.75 53.   57.   80.   70.   24.5   6.\n",
      "  0.67 30.5   0.42 34.5  74.  ]\n",
      "Valores -> SibSp: [1 0 3 4 2 5 8]\n",
      "Valores -> Parch: [0 1 2 5 3 4 6]\n",
      "Valores -> Embarked: ['S' 'C' 'Q' nan]\n"
     ]
    }
   ],
   "source": [
    "print(f'Valores -> Survived: {titanic[\"Survived\"].unique()}')\n",
    "print(f'Valores -> Pclass: {titanic[\"Pclass\"].unique()}')\n",
    "print(f'Valores -> Sex: {titanic[\"Sex\"].unique()}')\n",
    "print(f'Valores -> Age: {titanic[\"Age\"].unique()}')\n",
    "print(f'Valores -> SibSp: {titanic[\"SibSp\"].unique()}')\n",
    "print(f'Valores -> Parch: {titanic[\"Parch\"].unique()}')\n",
    "print(f'Valores -> Embarked: {titanic[\"Embarked\"].unique()}')"
   ]
  },
  {
   "cell_type": "code",
   "execution_count": 34,
   "metadata": {},
   "outputs": [
    {
     "data": {
      "text/plain": [
       "Survived      0\n",
       "Pclass        0\n",
       "Sex           0\n",
       "Age         177\n",
       "SibSp         0\n",
       "Parch         0\n",
       "Embarked      2\n",
       "dtype: int64"
      ]
     },
     "execution_count": 34,
     "metadata": {},
     "output_type": "execute_result"
    }
   ],
   "source": [
    "# exiba a contagem de valores faltantes para cada característica - Wrangle\n",
    "titanic.isnull().sum()"
   ]
  },
  {
   "cell_type": "code",
   "execution_count": 35,
   "metadata": {},
   "outputs": [
    {
     "data": {
      "text/plain": [
       "Survived      0\n",
       "Pclass        0\n",
       "Sex           0\n",
       "Age         177\n",
       "SibSp         0\n",
       "Parch         0\n",
       "Embarked      0\n",
       "dtype: int64"
      ]
     },
     "execution_count": 35,
     "metadata": {},
     "output_type": "execute_result"
    }
   ],
   "source": [
    "# descarte linhas com quaisquer valores nulos na coluna Embarked - Wrangle\n",
    "titanic.dropna(subset=['Embarked'], inplace=True)\n",
    "titanic.isnull().sum()"
   ]
  },
  {
   "cell_type": "code",
   "execution_count": 36,
   "metadata": {},
   "outputs": [
    {
     "data": {
      "text/plain": [
       "Survived    0\n",
       "Pclass      0\n",
       "Sex         0\n",
       "Age         0\n",
       "SibSp       0\n",
       "Parch       0\n",
       "Embarked    0\n",
       "dtype: int64"
      ]
     },
     "execution_count": 36,
     "metadata": {},
     "output_type": "execute_result"
    }
   ],
   "source": [
    "# Substituindo valores nulos da idade pela média - Wrangle\n",
    "media_idade = titanic['Age'].mean()\n",
    "titanic['Age'].fillna(media_idade, inplace=True)\n",
    "titanic.isnull().sum()"
   ]
  },
  {
   "cell_type": "code",
   "execution_count": 37,
   "metadata": {},
   "outputs": [
    {
     "data": {
      "text/html": [
       "<div>\n",
       "<style scoped>\n",
       "    .dataframe tbody tr th:only-of-type {\n",
       "        vertical-align: middle;\n",
       "    }\n",
       "\n",
       "    .dataframe tbody tr th {\n",
       "        vertical-align: top;\n",
       "    }\n",
       "\n",
       "    .dataframe thead th {\n",
       "        text-align: right;\n",
       "    }\n",
       "</style>\n",
       "<table border=\"1\" class=\"dataframe\">\n",
       "  <thead>\n",
       "    <tr style=\"text-align: right;\">\n",
       "      <th></th>\n",
       "      <th>Sobreviveu</th>\n",
       "      <th>Classe</th>\n",
       "      <th>Sexo</th>\n",
       "      <th>Idade</th>\n",
       "      <th>Irmãos/Cônjugue</th>\n",
       "      <th>Pais/Crianças</th>\n",
       "      <th>Embarcou</th>\n",
       "    </tr>\n",
       "  </thead>\n",
       "  <tbody>\n",
       "    <tr>\n",
       "      <th>0</th>\n",
       "      <td>0</td>\n",
       "      <td>3</td>\n",
       "      <td>male</td>\n",
       "      <td>22.0</td>\n",
       "      <td>1</td>\n",
       "      <td>0</td>\n",
       "      <td>S</td>\n",
       "    </tr>\n",
       "  </tbody>\n",
       "</table>\n",
       "</div>"
      ],
      "text/plain": [
       "   Sobreviveu  Classe  Sexo  Idade  Irmãos/Cônjugue  Pais/Crianças Embarcou\n",
       "0           0       3  male   22.0                1              0        S"
      ]
     },
     "execution_count": 37,
     "metadata": {},
     "output_type": "execute_result"
    }
   ],
   "source": [
    "# Renomeando colunas para melhor entendimento - Wrangle\n",
    "colunas = ['Sobreviveu', 'Classe', 'Sexo', 'Idade', 'Irmãos/Cônjugue', 'Pais/Crianças', 'Embarcou']\n",
    "titanic.columns = colunas\n",
    "titanic.head(1)"
   ]
  },
  {
   "cell_type": "code",
   "execution_count": 38,
   "metadata": {},
   "outputs": [
    {
     "data": {
      "text/html": [
       "<div>\n",
       "<style scoped>\n",
       "    .dataframe tbody tr th:only-of-type {\n",
       "        vertical-align: middle;\n",
       "    }\n",
       "\n",
       "    .dataframe tbody tr th {\n",
       "        vertical-align: top;\n",
       "    }\n",
       "\n",
       "    .dataframe thead th {\n",
       "        text-align: right;\n",
       "    }\n",
       "</style>\n",
       "<table border=\"1\" class=\"dataframe\">\n",
       "  <thead>\n",
       "    <tr style=\"text-align: right;\">\n",
       "      <th></th>\n",
       "      <th>Sobreviveu</th>\n",
       "      <th>Classe</th>\n",
       "      <th>Sexo</th>\n",
       "      <th>Idade</th>\n",
       "      <th>Irmãos/Cônjugue</th>\n",
       "      <th>Pais/Crianças</th>\n",
       "      <th>Embarcou</th>\n",
       "    </tr>\n",
       "  </thead>\n",
       "  <tbody>\n",
       "    <tr>\n",
       "      <th>0</th>\n",
       "      <td>Não</td>\n",
       "      <td>3st</td>\n",
       "      <td>masculino</td>\n",
       "      <td>22.0</td>\n",
       "      <td>1</td>\n",
       "      <td>0</td>\n",
       "      <td>Cherbourg</td>\n",
       "    </tr>\n",
       "    <tr>\n",
       "      <th>1</th>\n",
       "      <td>Sim</td>\n",
       "      <td>1st</td>\n",
       "      <td>feminino</td>\n",
       "      <td>38.0</td>\n",
       "      <td>1</td>\n",
       "      <td>0</td>\n",
       "      <td>Southampton</td>\n",
       "    </tr>\n",
       "    <tr>\n",
       "      <th>2</th>\n",
       "      <td>Sim</td>\n",
       "      <td>3st</td>\n",
       "      <td>feminino</td>\n",
       "      <td>26.0</td>\n",
       "      <td>0</td>\n",
       "      <td>0</td>\n",
       "      <td>Cherbourg</td>\n",
       "    </tr>\n",
       "    <tr>\n",
       "      <th>3</th>\n",
       "      <td>Sim</td>\n",
       "      <td>1st</td>\n",
       "      <td>feminino</td>\n",
       "      <td>35.0</td>\n",
       "      <td>1</td>\n",
       "      <td>0</td>\n",
       "      <td>Cherbourg</td>\n",
       "    </tr>\n",
       "    <tr>\n",
       "      <th>4</th>\n",
       "      <td>Não</td>\n",
       "      <td>3st</td>\n",
       "      <td>masculino</td>\n",
       "      <td>35.0</td>\n",
       "      <td>0</td>\n",
       "      <td>0</td>\n",
       "      <td>Cherbourg</td>\n",
       "    </tr>\n",
       "  </tbody>\n",
       "</table>\n",
       "</div>"
      ],
      "text/plain": [
       "  Sobreviveu Classe       Sexo  Idade  Irmãos/Cônjugue  Pais/Crianças  \\\n",
       "0        Não    3st  masculino   22.0                1              0   \n",
       "1        Sim    1st   feminino   38.0                1              0   \n",
       "2        Sim    3st   feminino   26.0                0              0   \n",
       "3        Sim    1st   feminino   35.0                1              0   \n",
       "4        Não    3st  masculino   35.0                0              0   \n",
       "\n",
       "      Embarcou  \n",
       "0    Cherbourg  \n",
       "1  Southampton  \n",
       "2    Cherbourg  \n",
       "3    Cherbourg  \n",
       "4    Cherbourg  "
      ]
     },
     "execution_count": 38,
     "metadata": {},
     "output_type": "execute_result"
    }
   ],
   "source": [
    "titanic['Sobreviveu'] = titanic['Sobreviveu'].replace([0, 1], ['Não', 'Sim'])\n",
    "titanic['Classe'] = titanic['Classe'].replace([1, 2, 3], ['1st', '2st', '3st'])\n",
    "titanic['Sexo'] = titanic['Sexo'].replace(['male', 'female'], ['masculino', 'feminino'])\n",
    "titanic['Embarcou'] = titanic['Embarcou'].replace(['S', 'C', 'Q'], ['Cherbourg', 'Southampton', 'Queenstown'])\n",
    "titanic.head()"
   ]
  },
  {
   "cell_type": "code",
   "execution_count": 39,
   "metadata": {},
   "outputs": [
    {
     "name": "stdout",
     "output_type": "stream",
     "text": [
      "coluna: Sobreviveu, tipo: <class 'str'>\n",
      "coluna: Classe, tipo: <class 'str'>\n",
      "coluna: Sexo, tipo: <class 'str'>\n",
      "coluna: Idade, tipo: <class 'numpy.float64'>\n",
      "coluna: Irmãos/Cônjugue, tipo: <class 'numpy.int64'>\n",
      "coluna: Pais/Crianças, tipo: <class 'numpy.int64'>\n",
      "coluna: Embarcou, tipo: <class 'str'>\n"
     ]
    }
   ],
   "source": [
    "check_types(titanic)"
   ]
  },
  {
   "cell_type": "code",
   "execution_count": 40,
   "metadata": {},
   "outputs": [
    {
     "data": {
      "text/html": [
       "<div>\n",
       "<style scoped>\n",
       "    .dataframe tbody tr th:only-of-type {\n",
       "        vertical-align: middle;\n",
       "    }\n",
       "\n",
       "    .dataframe tbody tr th {\n",
       "        vertical-align: top;\n",
       "    }\n",
       "\n",
       "    .dataframe thead th {\n",
       "        text-align: right;\n",
       "    }\n",
       "</style>\n",
       "<table border=\"1\" class=\"dataframe\">\n",
       "  <thead>\n",
       "    <tr style=\"text-align: right;\">\n",
       "      <th></th>\n",
       "      <th>Idade</th>\n",
       "      <th>Irmãos/Cônjugue</th>\n",
       "      <th>Pais/Crianças</th>\n",
       "    </tr>\n",
       "  </thead>\n",
       "  <tbody>\n",
       "    <tr>\n",
       "      <th>count</th>\n",
       "      <td>889.000000</td>\n",
       "      <td>889.000000</td>\n",
       "      <td>889.000000</td>\n",
       "    </tr>\n",
       "    <tr>\n",
       "      <th>mean</th>\n",
       "      <td>29.642093</td>\n",
       "      <td>0.524184</td>\n",
       "      <td>0.382452</td>\n",
       "    </tr>\n",
       "    <tr>\n",
       "      <th>std</th>\n",
       "      <td>12.968346</td>\n",
       "      <td>1.103705</td>\n",
       "      <td>0.806761</td>\n",
       "    </tr>\n",
       "    <tr>\n",
       "      <th>min</th>\n",
       "      <td>0.420000</td>\n",
       "      <td>0.000000</td>\n",
       "      <td>0.000000</td>\n",
       "    </tr>\n",
       "    <tr>\n",
       "      <th>25%</th>\n",
       "      <td>22.000000</td>\n",
       "      <td>0.000000</td>\n",
       "      <td>0.000000</td>\n",
       "    </tr>\n",
       "    <tr>\n",
       "      <th>50%</th>\n",
       "      <td>29.642093</td>\n",
       "      <td>0.000000</td>\n",
       "      <td>0.000000</td>\n",
       "    </tr>\n",
       "    <tr>\n",
       "      <th>75%</th>\n",
       "      <td>35.000000</td>\n",
       "      <td>1.000000</td>\n",
       "      <td>0.000000</td>\n",
       "    </tr>\n",
       "    <tr>\n",
       "      <th>max</th>\n",
       "      <td>80.000000</td>\n",
       "      <td>8.000000</td>\n",
       "      <td>6.000000</td>\n",
       "    </tr>\n",
       "  </tbody>\n",
       "</table>\n",
       "</div>"
      ],
      "text/plain": [
       "            Idade  Irmãos/Cônjugue  Pais/Crianças\n",
       "count  889.000000       889.000000     889.000000\n",
       "mean    29.642093         0.524184       0.382452\n",
       "std     12.968346         1.103705       0.806761\n",
       "min      0.420000         0.000000       0.000000\n",
       "25%     22.000000         0.000000       0.000000\n",
       "50%     29.642093         0.000000       0.000000\n",
       "75%     35.000000         1.000000       0.000000\n",
       "max     80.000000         8.000000       6.000000"
      ]
     },
     "execution_count": 40,
     "metadata": {},
     "output_type": "execute_result"
    }
   ],
   "source": [
    "titanic.describe()"
   ]
  },
  {
   "cell_type": "markdown",
   "metadata": {},
   "source": [
    "##### Etapa 3: Explorando dados - Explore"
   ]
  },
  {
   "cell_type": "code",
   "execution_count": 41,
   "metadata": {},
   "outputs": [
    {
     "data": {
      "image/png": "[encoded data removed]",
      "text/plain": [
       "<Figure size 432x288 with 1 Axes>"
      ]
     },
     "metadata": {},
     "output_type": "display_data"
    },
    {
     "name": "stdout",
     "output_type": "stream",
     "text": [
      "Sobreviveram 340 pessoas que estavam no titanic.\n",
      "Morreram 549 pessoas que estavam no titanic.\n"
     ]
    }
   ],
   "source": [
    "# Quantos foram os que sobrevieram?\n",
    "# Quantos foram os que morreram na catástrofe?\n",
    "\n",
    "total = sns.countplot(data=titanic, x='Sobreviveu')\n",
    "sns.set(style=\"darkgrid\")\n",
    "\n",
    "plt.title('Quantidade')\n",
    "plt.xlabel('Sobreviveu?')\n",
    "plt.ylabel('Número de sobriviventes')\n",
    "plt.show()\n",
    "\n",
    "# Criando dois novos dataframes - Um com a relação de todos os sobreviventes e Outro com a relação dos mortos\n",
    "mortos_no_titanic = titanic.query('Sobreviveu == \"Não\"')\n",
    "sobreviventes_no_titanic = titanic.query('Sobreviveu == \"Sim\"')\n",
    "\n",
    "print(f'Sobreviveram {sobreviventes_no_titanic.shape[0]} pessoas que estavam no titanic.')\n",
    "print(f'Morreram {mortos_no_titanic.shape[0]} pessoas que estavam no titanic.')\n"
   ]
  },
  {
   "cell_type": "code",
   "execution_count": 42,
   "metadata": {},
   "outputs": [
    {
     "data": {
      "text/plain": [
       "Sobreviveu\n",
       "Não    30.402116\n",
       "Sim    28.414879\n",
       "Name: Idade, dtype: float64"
      ]
     },
     "execution_count": 42,
     "metadata": {},
     "output_type": "execute_result"
    }
   ],
   "source": [
    "# Dentre os que sobreviveram, qual a média da idade?\n",
    "# Dentre os que não sobreviram, qual a média de idade?\n",
    "\n",
    "media_idade = titanic.groupby('Sobreviveu')['Idade'].mean()\n",
    "media_idade\n"
   ]
  },
  {
   "cell_type": "code",
   "execution_count": 43,
   "metadata": {},
   "outputs": [
    {
     "data": {
      "image/png": "[encoded data removed]",
      "text/plain": [
       "<Figure size 432x288 with 1 Axes>"
      ]
     },
     "metadata": {},
     "output_type": "display_data"
    }
   ],
   "source": [
    "# Qual a relação entre os sobreviventes e a classe de ingresso?\n",
    "\n",
    "# Criando novo dataset de sobreviventes, pois o violinplot reque o uso de pelo menos uma variavel númerica. \n",
    "# A logica abaixo força valores do tipo bool no campo Sobreviveu do dataset, o que é interpretado como 0 ou 1 pelo python\n",
    "# 1 - Para sobreviventes e 0 para não sobreviventes\n",
    "\n",
    "sobreviventes_classe = titanic.copy()\n",
    "sobreviventes_classe['Sobreviveu'] = titanic['Sobreviveu'] == 'Sim'\n",
    "sns.violinplot(data=sobreviventes_classe, y='Sobreviveu', x='Classe', order=[\"1st\", \"2st\", '3st'], size=30)\n",
    "\n",
    "plt.title('Proporção entre sobreviventes e classe de Ingresso.')\n",
    "plt.show()"
   ]
  },
  {
   "cell_type": "code",
   "execution_count": 44,
   "metadata": {},
   "outputs": [
    {
     "data": {
      "image/png": "[encoded data removed]",
      "text/plain": [
       "<Figure size 432x288 with 1 Axes>"
      ]
     },
     "metadata": {},
     "output_type": "display_data"
    }
   ],
   "source": [
    "# Qual o sexo mais relevante entre os sobreviventes?\n",
    "\n",
    "sobreviventes_classe = titanic.copy()\n",
    "sobreviventes_classe['Sobreviveu'] = titanic['Sobreviveu'] == 'Sim'\n",
    "sns.violinplot(data=sobreviventes_classe, y='Sobreviveu', x='Sexo', order=[\"masculino\", \"feminino\"], size=30)\n",
    "\n",
    "plt.title('Proporção entre sexo mais relevante entre sobreviventes.')\n",
    "plt.show()"
   ]
  },
  {
   "cell_type": "code",
   "execution_count": 45,
   "metadata": {},
   "outputs": [
    {
     "data": {
      "image/png": "[encoded data removed]",
      "text/plain": [
       "<Figure size 432x288 with 1 Axes>"
      ]
     },
     "metadata": {},
     "output_type": "display_data"
    },
    {
     "name": "stdout",
     "output_type": "stream",
     "text": [
      "Pelo gráfico acima, verificamos que morreram mais pessoas do sexo masculino do que o feminino.\n"
     ]
    }
   ],
   "source": [
    "# Morreram mais pessoas do sexo feminino ou masculino?\n",
    "passageiros = sns.countplot(data=titanic, x='Sobreviveu', hue='Sexo')\n",
    "\n",
    "for i in passageiros.patches:\n",
    "    b=i.get_bbox()\n",
    "    passageiros.annotate(\"{:.0f}\".format(b.y1 + b.y0), ((b.x0 + b.x1)/2 - 0.03, b.y1 + 5))\n",
    "\n",
    "plt.title('Quantidade')\n",
    "plt.xlabel('Sobreviveu?')\n",
    "plt.ylabel('Número de sobriviventes')\n",
    "plt.show()\n",
    "\n",
    "print('Pelo gráfico acima, verificamos que morreram mais pessoas do sexo masculino do que o feminino.')"
   ]
  },
  {
   "cell_type": "code",
   "execution_count": 51,
   "metadata": {},
   "outputs": [
    {
     "data": {
      "image/png": "[encoded data removed]",
      "text/plain": [
       "<Figure size 432x288 with 1 Axes>"
      ]
     },
     "metadata": {},
     "output_type": "display_data"
    }
   ],
   "source": [
    "# Qual era a distribuição de idades por classe que existia na embarcação?\n",
    "sns.stripplot(x=\"Classe\", y=\"Idade\", data=titanic, order=['1st','2st','3st']);"
   ]
  },
  {
   "cell_type": "code",
   "execution_count": null,
   "metadata": {},
   "outputs": [],
   "source": []
  },
  {
   "cell_type": "code",
   "execution_count": null,
   "metadata": {},
   "outputs": [],
   "source": []
  },
  {
   "cell_type": "code",
   "execution_count": null,
   "metadata": {},
   "outputs": [],
   "source": []
  }
 ],
 "metadata": {
  "kernelspec": {
   "display_name": "Python 3",
   "language": "python",
   "name": "python3"
  },
  "language_info": {
   "codemirror_mode": {
    "name": "ipython",
    "version": 3
   },
   "file_extension": ".py",
   "mimetype": "text/x-python",
   "name": "python",
   "nbconvert_exporter": "python",
   "pygments_lexer": "ipython3",
   "version": "3.6.5"
  }
 },
 "nbformat": 4,
 "nbformat_minor": 2
}
